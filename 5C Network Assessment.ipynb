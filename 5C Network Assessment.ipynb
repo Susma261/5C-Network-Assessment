{
 "cells": [
  {
   "cell_type": "markdown",
   "id": "8874f4d9",
   "metadata": {},
   "source": [
    "### 5C NETWORK ASSESSMENT"
   ]
  },
  {
   "cell_type": "markdown",
   "id": "86bee663",
   "metadata": {},
   "source": [
    "### Sales data 1"
   ]
  },
  {
   "cell_type": "markdown",
   "id": "59800f5b",
   "metadata": {},
   "source": [
    "### 2 Marks"
   ]
  },
  {
   "cell_type": "code",
   "execution_count": 46,
   "id": "55696216",
   "metadata": {},
   "outputs": [
    {
     "name": "stdout",
     "output_type": "stream",
     "text": [
      "The overall gross margin is: 24.63%\n"
     ]
    }
   ],
   "source": [
    "# Question 1\n",
    "\n",
    "import pandas as pd\n",
    "data = pd.read_csv('sales_data_1.csv')  \n",
    "data['COGS'] = data['Buying price'] * data['Quantity sold']\n",
    "data['Revenue'] = data['Selling price'] * data['Quantity sold']\n",
    "total_cogs = data['COGS'].sum()\n",
    "total_revenue = data['Revenue'].sum()\n",
    "gross_margin = (total_revenue - total_cogs) / total_revenue\n",
    "gross_margin_percentage = gross_margin * 100\n",
    "print(f\"The overall gross margin is: {gross_margin_percentage:.2f}%\")\n"
   ]
  },
  {
   "cell_type": "code",
   "execution_count": 47,
   "id": "4fab2073",
   "metadata": {},
   "outputs": [
    {
     "name": "stdout",
     "output_type": "stream",
     "text": [
      "Most profitable vendor: Vendor7\n"
     ]
    },
    {
     "name": "stderr",
     "output_type": "stream",
     "text": [
      "<ipython-input-47-761d6c7e3c90>:3: FutureWarning: Indexing with multiple keys (implicitly converted to a tuple of keys) will be deprecated, use a list instead.\n",
      "  vendor_gross_profit = df.groupby('Firm bought from')['Selling price', 'Buying price'].agg(sum)\n"
     ]
    }
   ],
   "source": [
    "# Question 2\n",
    "\n",
    "vendor_gross_profit = df.groupby('Firm bought from')['Selling price', 'Buying price'].agg(sum)\n",
    "vendor_gross_profit['gross_profit'] = vendor_gross_profit['Selling price'] - vendor_gross_profit['Buying price']\n",
    "\n",
    "most_profitable_vendor = vendor_gross_profit['gross_profit'].idxmax()\n",
    "# Print the results\n",
    "print('Most profitable vendor:', most_profitable_vendor)\n"
   ]
  },
  {
   "cell_type": "code",
   "execution_count": 48,
   "id": "a9365484",
   "metadata": {},
   "outputs": [
    {
     "name": "stdout",
     "output_type": "stream",
     "text": [
      "The least profitable customer is Customer3\n"
     ]
    }
   ],
   "source": [
    "# Question 3\n",
    "\n",
    "data['Profit'] = (data['Selling price'] - data['Buying price']) * data['Quantity sold']\n",
    "\n",
    "customer_profit = data.groupby('Customer')['Profit'].sum().reset_index()\n",
    "\n",
    "least_profitable_customer = customer_profit.sort_values(by='Profit').iloc[0]\n",
    "\n",
    "print(f\"The least profitable customer is {least_profitable_customer['Customer']}\")"
   ]
  },
  {
   "cell_type": "code",
   "execution_count": 49,
   "id": "77c31941",
   "metadata": {},
   "outputs": [
    {
     "name": "stdout",
     "output_type": "stream",
     "text": [
      "The most profitable day of the week is Monday\n"
     ]
    }
   ],
   "source": [
    "# Question 4\n",
    "\n",
    "data['Date'] = pd.to_datetime(data['Date'], format='%d/%m/%y')\n",
    "\n",
    "data['Profit'] = (data['Selling price'] - data['Buying price']) * data['Quantity sold']\n",
    "\n",
    "data['Day of Week'] = data['Date'].dt.day_name()\n",
    "\n",
    "day_of_week_profit = data.groupby('Day of Week')['Profit'].sum().reset_index()\n",
    "\n",
    "most_profitable_day = day_of_week_profit.sort_values(by='Profit', ascending=False).iloc[0]\n",
    "\n",
    "print(f\"The most profitable day of the week is {most_profitable_day['Day of Week']}\")"
   ]
  },
  {
   "cell_type": "code",
   "execution_count": 50,
   "id": "90992a0f",
   "metadata": {},
   "outputs": [
    {
     "name": "stdout",
     "output_type": "stream",
     "text": [
      "The least profitable day of the week is Sunday\n"
     ]
    }
   ],
   "source": [
    "# Question 5\n",
    "\n",
    "data['Date'] = pd.to_datetime(data['Date'], format='%d-%m-%Y')\n",
    "\n",
    "data['Profit'] = (data['Selling price'] - data['Buying price']) * data['Quantity sold']\n",
    "\n",
    "data['Day of Week'] = data['Date'].dt.day_name()\n",
    "\n",
    "day_of_week_profit = data.groupby('Day of Week')['Profit'].sum().reset_index()\n",
    "\n",
    "least_profitable_day = day_of_week_profit.sort_values(by='Profit').iloc[0]\n",
    "\n",
    "print(f\"The least profitable day of the week is {least_profitable_day['Day of Week']}\")\n"
   ]
  },
  {
   "cell_type": "markdown",
   "id": "6da534e8",
   "metadata": {},
   "source": [
    "### Sales Data 2"
   ]
  },
  {
   "cell_type": "code",
   "execution_count": 53,
   "id": "fb2f02e9",
   "metadata": {},
   "outputs": [
    {
     "name": "stdout",
     "output_type": "stream",
     "text": [
      "          Date  Daily Gross Profit  3-Day Rolling Average\n",
      "0   2023-08-21              856.68                    NaN\n",
      "1   2023-08-21              146.71                    NaN\n",
      "2   2023-08-21              297.45             433.613333\n",
      "3   2023-08-21               87.64             177.266667\n",
      "4   2023-08-21               42.01             142.366667\n",
      "..         ...                 ...                    ...\n",
      "65  2023-08-27              407.34             552.863333\n",
      "66  2023-08-27               84.00             552.070000\n",
      "67  2023-08-27              947.84             479.726667\n",
      "68  2023-08-27              126.44             386.093333\n",
      "69  2023-08-27               25.88             366.720000\n",
      "\n",
      "[70 rows x 3 columns]\n"
     ]
    }
   ],
   "source": [
    "# Question 6\n",
    "\n",
    "data = pd.read_csv('sales_data_2.csv')\n",
    "data['Daily Gross Profit'] = data['Quantity sold'] * (data['Selling price'] - data['Buying price'])\n",
    "\n",
    "data['3-Day Rolling Average'] = data['Daily Gross Profit'].rolling(window=3).mean()\n",
    "\n",
    "print(data[['Date', 'Daily Gross Profit', '3-Day Rolling Average']])"
   ]
  },
  {
   "cell_type": "code",
   "execution_count": 67,
   "id": "eceef1fc",
   "metadata": {},
   "outputs": [
    {
     "data": {
      "image/png": "[encoded data removed]",
      "text/plain": [
       "<Figure size 864x432 with 1 Axes>"
      ]
     },
     "metadata": {
      "needs_background": "light"
     },
     "output_type": "display_data"
    }
   ],
   "source": [
    "# Question 7\n",
    "\n",
    "data = data.sort_values(by='Date')\n",
    "\n",
    "data['Daily Gross Profit'] = data['Selling price'] - data['Buying price']\n",
    "\n",
    "data['3-Day Rolling Average'] = data['Daily Gross Profit'].rolling(window=3).mean()\n",
    "\n",
    "plt.figure(figsize=(12, 6))\n",
    "plt.plot(data['Date'], data['3-Day Rolling Average'], label='3-Day Avg', color='blue')\n",
    "plt.plot(data['Date'], data['Daily Gross Profit'], label='Daily Profit', color='green', alpha=0.5)\n",
    "\n",
    "plt.xlabel('Date')\n",
    "plt.ylabel('Profit')\n",
    "plt.title('3-Day Rolling Average vs. Daily Gross Profit')\n",
    "plt.legend()\n",
    "plt.grid(True)\n",
    "\n",
    "plt.show()"
   ]
  },
  {
   "cell_type": "code",
   "execution_count": 81,
   "id": "7ef0d218",
   "metadata": {},
   "outputs": [
    {
     "name": "stdout",
     "output_type": "stream",
     "text": [
      "Vendors to fire: Index(['Vendor1', 'Vendor2', 'Vendor5', 'Vendor7', 'Vendor8'], dtype='object', name='Firm bought from')\n",
      "Customers to let go: Index(['Customer3', 'Customer5', 'Customer6', 'Customer7', 'Customer9'], dtype='object', name='Customer')\n"
     ]
    }
   ],
   "source": [
    "# Question 8\n",
    "\n",
    "# a. Would you fire any vendor?\n",
    "df = pd.read_csv('sales_data_2.csv', parse_dates=['Date'])\n",
    "\n",
    "df['GrossProfit'] = (df['Selling price'] - df['Buying price']) * df['Quantity sold']\n",
    "vendor_avg_margin = df.groupby('Firm bought from')['GrossProfit'].mean()\n",
    "vendors_to_fire = vendor_avg_margin[vendor_avg_margin < vendor_avg_margin.median()].index\n",
    "print(\"Vendors to fire:\", vendors_to_fire)\n",
    "\n",
    "# b. Would you let go of any customer?\n",
    "customer_avg_margin = df.groupby('Customer')['GrossProfit'].mean()\n",
    "customers_to_let_go = customer_avg_margin[customer_avg_margin < customer_avg_margin.median()].index\n",
    "print(\"Customers to let go:\", customers_to_let_go)"
   ]
  },
  {
   "cell_type": "code",
   "execution_count": 82,
   "id": "983c1c9a",
   "metadata": {},
   "outputs": [
    {
     "name": "stdout",
     "output_type": "stream",
     "text": [
      "Buying Price Percentiles (25th, Median, 75th): [29.9  60.76 78.32]\n",
      "Selling Price Percentiles (25th, Median, 75th): [ 38.975   78.99   103.3975]\n"
     ]
    }
   ],
   "source": [
    "# Question 9\n",
    "\n",
    "data = pd.read_csv('sales_data_2.csv')\n",
    "\n",
    "buying_price_percentiles = np.percentile(data['Buying price'], [25, 50, 75])\n",
    "\n",
    "selling_price_percentiles = np.percentile(data['Selling price'], [25, 50, 75])\n",
    "\n",
    "print(\"Buying Price Percentiles (25th, Median, 75th):\", buying_price_percentiles)\n",
    "print(\"Selling Price Percentiles (25th, Median, 75th):\", selling_price_percentiles)\n"
   ]
  },
  {
   "cell_type": "code",
   "execution_count": 84,
   "id": "c7ceec8b",
   "metadata": {},
   "outputs": [
    {
     "name": "stdout",
     "output_type": "stream",
     "text": [
      "Percentage of transactions where the buying price is below the 25th percentile: 25.71428571428571\n",
      "Percentage of transactions where the buying price is above the 75th percentile: 25.71428571428571\n"
     ]
    }
   ],
   "source": [
    "# Question 10\n",
    "\n",
    "df = pd.read_csv('sales_data_2.csv')\n",
    "\n",
    "q25 = df['Buying price'].quantile(0.25)\n",
    "q75 = df['Buying price'].quantile(0.75)\n",
    "\n",
    "low_price_transactions = df[df['Buying price'] < q25]\n",
    "high_price_transactions = df[df['Buying price'] > q75]\n",
    "\n",
    "low_price_transaction_percentage = len(low_price_transactions) / len(df) * 100\n",
    "high_price_transaction_percentage = len(high_price_transactions) / len(df) * 100\n",
    "\n",
    "print('Percentage of transactions where the buying price is below the 25th percentile:', low_price_transaction_percentage)\n",
    "print('Percentage of transactions where the buying price is above the 75th percentile:', high_price_transaction_percentage)\n"
   ]
  },
  {
   "cell_type": "code",
   "execution_count": 91,
   "id": "b8acc9a7",
   "metadata": {},
   "outputs": [
    {
     "name": "stdout",
     "output_type": "stream",
     "text": [
      "Original Gross Margin: 1207.1999999999998\n",
      "Gross Margin with Vendor 4 Included: 1037.09\n",
      "Impact on Gross Margin by Honoring Vendor 4: 170.1099999999999\n"
     ]
    }
   ],
   "source": [
    "# Question 11\n",
    "\n",
    "\n",
    "original_gross_margin = (data['Selling price'] - data['Buying price']).sum()\n",
    "\n",
    "data_without_vendor4 = data[data['Firm bought from'] != 'Vendor4']\n",
    "gross_margin_with_vendor4 = (data_without_vendor4['Selling price'] - data_without_vendor4['Buying price']).sum()\n",
    "\n",
    "impact_on_gross_margin = original_gross_margin - gross_margin_with_vendor4\n",
    "\n",
    "print(\"Original Gross Margin:\", original_gross_margin)\n",
    "print(\"Gross Margin with Vendor 4 Included:\", gross_margin_with_vendor4)\n",
    "print(\"Impact on Gross Margin by Honoring Vendor 4:\", impact_on_gross_margin)\n"
   ]
  },
  {
   "cell_type": "code",
   "execution_count": 92,
   "id": "da2c05cd",
   "metadata": {},
   "outputs": [
    {
     "name": "stdout",
     "output_type": "stream",
     "text": [
      "Vendor with Highest Gross Margin: Vendor7\n",
      "Total Gross Margin with Best Vendor: 224.98\n",
      "Theoretical Maximum Gross Margin with Exclusive Sourcing from Best Vendor: 224.98\n"
     ]
    }
   ],
   "source": [
    "# Question 12\n",
    "data = pd.read_csv('sales_data_2.csv')\n",
    "\n",
    "vendor_gross_margin = data.groupby('Firm bought from').apply(lambda x: (x['Selling price'] - x['Buying price']).sum())\n",
    "\n",
    "best_vendor = vendor_gross_margin.idxmax()\n",
    "highest_gross_margin = vendor_gross_margin.max()\n",
    "theoretical_max_gross_margin = (data[data['Firm bought from'] == best_vendor]['Selling price'] - data[data['Firm bought from'] == best_vendor]['Buying price']).sum()\n",
    "\n",
    "print(\"Vendor with Highest Gross Margin:\", best_vendor)\n",
    "print(\"Total Gross Margin with Best Vendor:\", highest_gross_margin)\n",
    "print(\"Theoretical Maximum Gross Margin with Exclusive Sourcing from Best Vendor:\", theoretical_max_gross_margin)\n"
   ]
  },
  {
   "cell_type": "code",
   "execution_count": 93,
   "id": "95f9ed4b",
   "metadata": {},
   "outputs": [
    {
     "name": "stdout",
     "output_type": "stream",
     "text": [
      "Price Elasticity when price increases by Rs. 1: 1     0.0\n",
      "29    0.0\n",
      "34    0.0\n",
      "49    0.0\n",
      "54    0.0\n",
      "59    0.0\n",
      "62    0.0\n",
      "63    0.0\n",
      "65    0.0\n",
      "dtype: float64\n",
      "Price Elasticity when price decreases by Rs. 1: 1    -0.0\n",
      "29   -0.0\n",
      "34   -0.0\n",
      "49   -0.0\n",
      "54   -0.0\n",
      "59   -0.0\n",
      "62   -0.0\n",
      "63   -0.0\n",
      "65   -0.0\n",
      "dtype: float64\n"
     ]
    }
   ],
   "source": [
    "# Question 13\n",
    "\n",
    "branch_data = data[data['Firm bought from'] == 'Vendor4']\n",
    "\n",
    "initial_quantity = branch_data['Quantity sold']\n",
    "initial_price = branch_data['Selling price']\n",
    "\n",
    "new_price_increase = initial_price + 1\n",
    "new_quantity_increase = branch_data['Quantity sold']\n",
    "\n",
    "new_price_decrease = initial_price - 1\n",
    "new_quantity_decrease = branch_data['Quantity sold']\n",
    "\n",
    "percent_change_quantity_increase = ((new_quantity_increase - initial_quantity) / initial_quantity) * 100\n",
    "percent_change_price_increase = ((new_price_increase - initial_price) / initial_price) * 100\n",
    "\n",
    "percent_change_quantity_decrease = ((new_quantity_decrease - initial_quantity) / initial_quantity) * 100\n",
    "percent_change_price_decrease = ((new_price_decrease - initial_price) / initial_price) * 100\n",
    "\n",
    "price_elasticity_increase = (percent_change_quantity_increase / percent_change_price_increase)\n",
    "price_elasticity_decrease = (percent_change_quantity_decrease / percent_change_price_decrease)\n",
    "\n",
    "print(\"Price Elasticity when price increases by Rs. 1:\", price_elasticity_increase)\n",
    "print(\"Price Elasticity when price decreases by Rs. 1:\", price_elasticity_decrease)\n"
   ]
  },
  {
   "cell_type": "code",
   "execution_count": null,
   "id": "fe20432e",
   "metadata": {},
   "outputs": [],
   "source": []
  }
 ],
 "metadata": {
  "kernelspec": {
   "display_name": "Python 3",
   "language": "python",
   "name": "python3"
  },
  "language_info": {
   "codemirror_mode": {
    "name": "ipython",
    "version": 3
   },
   "file_extension": ".py",
   "mimetype": "text/x-python",
   "name": "python",
   "nbconvert_exporter": "python",
   "pygments_lexer": "ipython3",
   "version": "3.8.8"
  }
 },
 "nbformat": 4,
 "nbformat_minor": 5
}
